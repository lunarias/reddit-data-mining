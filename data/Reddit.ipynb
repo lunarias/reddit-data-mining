{
  "cells": [
    {
      "cell_type": "code",
      "execution_count": 1,
      "metadata": {
        "id": "ThXNcwbkIYOs"
      },
      "outputs": [],
      "source": [
        "# calculates average value over values in a dictionary\n",
        "def graph_avg(nodes):\n",
        "  total = 0\n",
        "  for key, val in nodes.items():\n",
        "    total += val\n",
        "  avg = total / len(nodes)\n",
        "  return avg\n"
      ]
    },
    {
      "cell_type": "code",
      "execution_count": 1,
      "metadata": {
        "colab": {
          "base_uri": "https://localhost:8080/"
        },
        "id": "1bTrrktj668f",
        "outputId": "d512d9cf-938c-406d-8680-cb7945247ec4"
      },
      "outputs": [
        {
          "name": "stdout",
          "output_type": "stream",
          "text": [
            "            Label       Category\n",
            "Id                              \n",
            "0    \"depression\"     Discussion\n",
            "1     \"NFL_Draft\"  Entertainment\n",
            "2     \"RepLadies\"     Discussion\n",
            "3          \"ESFP\"     Discussion\n",
            "4           \"UBC\"    Educational\n",
            "..            ...            ...\n",
            "669       \"tarot\"  Entertainment\n",
            "670  \"activision\"  Entertainment\n",
            "671        \"intj\"      Lifestyle\n",
            "672      \"Baking\"      Lifestyle\n",
            "673    \"shoebots\"     Technology\n",
            "\n",
            "[674 rows x 2 columns]\n",
            "       Source  Target  Weight\n",
            "0           0      65       1\n",
            "1           0     108       1\n",
            "2           0     126       1\n",
            "3           0     131       1\n",
            "4           0     142       1\n",
            "...       ...     ...     ...\n",
            "13135     664     669       1\n",
            "13136     664     671       1\n",
            "13137     666     671       1\n",
            "13138     668     671       1\n",
            "13139     669     671       1\n",
            "\n",
            "[13140 rows x 3 columns]\n",
            "there are 674 nodes and 13140 edges\n"
          ]
        }
      ],
      "source": [
        "import networkx as nx\n",
        "import pandas as pd\n",
        "import numpy as np\n",
        "import matplotlib.pyplot as plt\n",
        "import statistics\n",
        "\n",
        "nodes = pd.read_csv(\"subreddit_nodes.csv\", index_col=0)\n",
        "edges = pd.read_csv(\"subreddit_edges.csv\", delimiter=';')\n",
        "print(nodes)\n",
        "print(edges)\n",
        "\n",
        "# create graph in networkx\n",
        "G = nx.Graph()\n",
        "for index, row in nodes.iterrows():\n",
        "  G.add_node(index, name=row['Label'], category=row['Category'])\n",
        "\n",
        "for index, row in edges.iterrows():\n",
        "  G.add_edge(row['Source'], row['Target'], weight=row['Weight'])\n",
        "\n",
        "print(\"there are {} nodes and {} edges\".format(len(G.nodes), len(G.edges)))\n"
      ]
    },
    {
      "cell_type": "code",
      "execution_count": 7,
      "metadata": {
        "colab": {
          "base_uri": "https://localhost:8080/"
        },
        "id": "w1TA1OIq4abX",
        "outputId": "53451d06-26bc-4097-b88f-9e2236ca449e"
      },
      "outputs": [
        {
          "name": "stdout",
          "output_type": "stream",
          "text": [
            "0\n",
            "average clustering coefficient (unweighted): 0.9348070408814042\n",
            "standard deviation of clustering coefficient (unweighted) is 0.16523919337582474\n",
            "minimum clustering coefficient (unweighted): 0\n",
            "maximum clustering coefficient (unweighted): 1.0\n",
            "\n",
            "average clustering coefficient (weighted): 0.029192396290506885\n",
            "standard deviation of clustering coefficient (weighted) is 0.006279598591702775\n",
            "minimum clustering coefficient (weighted): 0\n",
            "maximum clustering coefficient (weighted): 0.09528270003757304\n",
            "\n"
          ]
        }
      ],
      "source": [
        "# clustering coefficient, unweighted\n",
        "cluster_coeff_unweighted = nx.clustering(G)\n",
        "nodes['Clustering Coefficient (Unweighted)'] = pd.Series(cluster_coeff_unweighted)\n",
        "avg_cluster_coeff_unweighted = graph_avg(cluster_coeff_unweighted)\n",
        "cluster_coeff_unweighted_list = [val for key, val in cluster_coeff_unweighted.items()]\n",
        "\n",
        "min_cluster_coeff_unweighted_index = min(cluster_coeff_unweighted, key=cluster_coeff_unweighted.get)\n",
        "min_cluster_coeff_unweighted = cluster_coeff_unweighted[min_cluster_coeff_unweighted_index]\n",
        "\n",
        "max_cluster_coeff_unweighted_index = max(cluster_coeff_unweighted, key=cluster_coeff_unweighted.get)\n",
        "print(max_cluster_coeff_unweighted_index)\n",
        "max_cluster_coeff_unweighted = cluster_coeff_unweighted[max_cluster_coeff_unweighted_index]\n",
        "print(\"average clustering coefficient (unweighted): {}\".format(avg_cluster_coeff_unweighted))\n",
        "print(\"standard deviation of clustering coefficient (unweighted) is {}\".format(statistics.stdev(cluster_coeff_unweighted_list)))\n",
        "print(\"minimum clustering coefficient (unweighted): {}\".format(min_cluster_coeff_unweighted))\n",
        "print(\"maximum clustering coefficient (unweighted): {}\".format(max_cluster_coeff_unweighted))\n",
        "print()\n",
        "\n",
        "# clustering coeff, weighted\n",
        "cluster_coeff_weighted = nx.clustering(G, weight='weight')\n",
        "nodes['Clustering Coefficient (Weighted)'] = pd.Series(cluster_coeff_weighted)\n",
        "avg_cluster_coeff_weighted = graph_avg(cluster_coeff_weighted)\n",
        "cluster_coeff_weighted_list = [val for key, val in cluster_coeff_weighted.items()]\n",
        "\n",
        "min_cluster_coeff_weighted_index = min(cluster_coeff_weighted, key=cluster_coeff_weighted.get)\n",
        "min_cluster_coeff_weighted = cluster_coeff_weighted[min_cluster_coeff_weighted_index]\n",
        "\n",
        "max_cluster_coeff_weighted_index = max(cluster_coeff_weighted, key=cluster_coeff_weighted.get)\n",
        "max_cluster_coeff_weighted = cluster_coeff_weighted[max_cluster_coeff_weighted_index]\n",
        "print(\"average clustering coefficient (weighted): {}\".format(avg_cluster_coeff_weighted))\n",
        "print(\"standard deviation of clustering coefficient (weighted) is {}\".format(statistics.stdev(cluster_coeff_weighted_list)))\n",
        "print(\"minimum clustering coefficient (weighted): {}\".format(min_cluster_coeff_weighted))\n",
        "print(\"maximum clustering coefficient (weighted): {}\".format(max_cluster_coeff_weighted))\n",
        "print()\n"
      ]
    },
    {
      "cell_type": "code",
      "execution_count": 34,
      "metadata": {
        "colab": {
          "base_uri": "https://localhost:8080/"
        },
        "id": "AjBuzfIulK9J",
        "outputId": "2da7b556-d1d9-4f5c-9085-b4cb0fa63638"
      },
      "outputs": [
        {
          "name": "stdout",
          "output_type": "stream",
          "text": [
            "average degree centrality: 0.057936252485659354\n",
            "minimum degree centrality: 0.0014858841010401188\n",
            "maximum degree centrality: 1.0\n",
            "\n"
          ]
        }
      ],
      "source": [
        "# degree centrality, unweighted\n",
        "degree_centrality = nx.degree_centrality(G)\n",
        "nodes['Degree Centrality (Unweighted)'] = pd.Series(degree_centrality)\n",
        "avg_degree_centrality = graph_avg(degree_centrality)\n",
        "\n",
        "min_degree_centrality_index = min(degree_centrality, key=degree_centrality.get)\n",
        "min_degree_centrality = degree_centrality[min_degree_centrality_index]\n",
        "\n",
        "max_degree_centrality_index = max(degree_centrality, key=degree_centrality.get)\n",
        "max_degree_centrality = degree_centrality[max_degree_centrality_index]\n",
        "print(\"average degree centrality: {}\".format(avg_degree_centrality))\n",
        "print(\"minimum degree centrality: {}\".format(min_degree_centrality))\n",
        "print(\"maximum degree centrality: {}\".format(max_degree_centrality))\n",
        "print()\n",
        "\n",
        "# degree centrality, weighted\n",
        "total_weight = edges['Weight'].sum()\n",
        "\n",
        "data_dict = {}\n",
        "for node in G.nodes:\n",
        "  node_total_weight = 0\n",
        "  e = G.edges(node, data=True)\n",
        "  for val, val2, data in e:\n",
        "    node_total_weight += data['weight']\n",
        "  data_dict[node] = node_total_weight / total_weight\n",
        "nodes['Degree Centrality (Weighted)'] = pd.Series(data_dict)"
      ]
    },
    {
      "cell_type": "code",
      "execution_count": 35,
      "metadata": {
        "colab": {
          "base_uri": "https://localhost:8080/"
        },
        "id": "vW1QgOHDuaC3",
        "outputId": "77f851c1-fb6d-4b3c-ff28-5238a5f38717"
      },
      "outputs": [
        {
          "name": "stdout",
          "output_type": "stream",
          "text": [
            "average eigenvector centrality: 0.019738235447154657\n",
            "minimum eigenvector centrality: 0.0015312105998696757\n",
            "maximum eigenvector centrality: 0.14196092000229163\n",
            "\n",
            "average eigenvector centrality: 0.022296261618297727\n",
            "minimum eigenvector centrality: 0.0032751856705756427\n",
            "maximum eigenvector centrality: 0.3425112172876475\n",
            "\n"
          ]
        }
      ],
      "source": [
        "# eigenvector centrality, unweighted\n",
        "eigenv_centrality_unweighted = nx.eigenvector_centrality(G)\n",
        "nodes['Eigenvector Centrality (Unweighted)'] = pd.Series(eigenv_centrality_unweighted)\n",
        "avg_eigenv_centrality_unweighted = graph_avg(eigenv_centrality_unweighted)\n",
        "\n",
        "min_eigenv_centrality_unweighted_index = min(eigenv_centrality_unweighted, key=eigenv_centrality_unweighted.get)\n",
        "min_eigenv_centrality_unweighted = eigenv_centrality_unweighted[min_eigenv_centrality_unweighted_index]\n",
        "\n",
        "max_eigenv_centrality_unweighted_index = max(eigenv_centrality_unweighted, key=eigenv_centrality_unweighted.get)\n",
        "max_eigenv_centrality_unweighted = eigenv_centrality_unweighted[max_eigenv_centrality_unweighted_index]\n",
        "print(\"average eigenvector centrality: {}\".format(avg_eigenv_centrality_unweighted))\n",
        "print(\"minimum eigenvector centrality: {}\".format(min_eigenv_centrality_unweighted))\n",
        "print(\"maximum eigenvector centrality: {}\".format(max_eigenv_centrality_unweighted))\n",
        "print()\n",
        "\n",
        "# eigenvector centrality, unweighted\n",
        "eigenv_centrality_weighted = nx.eigenvector_centrality(G, weight='weight')\n",
        "nodes['Eigenvector Centrality (Weighted)'] = pd.Series(eigenv_centrality_weighted)\n",
        "avg_eigenv_centrality_weighted = graph_avg(eigenv_centrality_weighted)\n",
        "\n",
        "min_eigenv_centrality_weighted_index = min(eigenv_centrality_weighted, key=eigenv_centrality_weighted.get)\n",
        "min_eigenv_centrality_weighted = eigenv_centrality_weighted[min_eigenv_centrality_weighted_index]\n",
        "\n",
        "max_eigenv_centrality_weighted_index = max(eigenv_centrality_weighted, key=eigenv_centrality_weighted.get)\n",
        "max_eigenv_centrality_weighted = eigenv_centrality_weighted[max_eigenv_centrality_weighted_index]\n",
        "print(\"average eigenvector centrality: {}\".format(avg_eigenv_centrality_weighted))\n",
        "print(\"minimum eigenvector centrality: {}\".format(min_eigenv_centrality_weighted))\n",
        "print(\"maximum eigenvector centrality: {}\".format(max_eigenv_centrality_weighted))\n",
        "print()"
      ]
    },
    {
      "cell_type": "code",
      "execution_count": 36,
      "metadata": {
        "colab": {
          "base_uri": "https://localhost:8080/"
        },
        "id": "5_SpKXpHu8n0",
        "outputId": "800fef2b-4bef-479a-9150-faf5d332844b"
      },
      "outputs": [
        {
          "name": "stdout",
          "output_type": "stream",
          "text": [
            "average closeness centrality (unweighted): 0.5156787817159918\n",
            "minimum closeness centrality (unweighted): 0.5003717472118959\n",
            "maximum closeness centrality (unweighted): 1.0\n",
            "\n",
            "average closeness centrality (weighted): 0.5156787817159918\n",
            "minimum closeness centrality (weighted): 0.5003717472118959\n",
            "maximum closeness centrality (weighted): 1.0\n",
            "\n"
          ]
        }
      ],
      "source": [
        "# closeness centrality, unweighted\n",
        "g_distance_dict = {(e1, e2): 1 / weight for e1, e2, weight in G.edges(data='weight')}\n",
        "nx.set_edge_attributes(G, g_distance_dict, 'distance')\n",
        "\n",
        "closeness_centrality_unweighted = nx.closeness_centrality(G)\n",
        "nodes['Closeness Centrality (Unweighted)'] = pd.Series(closeness_centrality_unweighted)\n",
        "avg_closeness_centrality_unweighted = graph_avg(closeness_centrality_unweighted)\n",
        "\n",
        "min_closeness_centrality_unweighted_index = min(closeness_centrality_unweighted, key=closeness_centrality_unweighted.get)\n",
        "min_closeness_centrality_unweighted = closeness_centrality_unweighted[min_closeness_centrality_unweighted_index]\n",
        "\n",
        "max_closeness_centrality_unweighted_index = max(closeness_centrality_unweighted, key=closeness_centrality_unweighted.get)\n",
        "max_closeness_centrality_unweighted = closeness_centrality_unweighted[max_closeness_centrality_unweighted_index]\n",
        "\n",
        "print(\"average closeness centrality (unweighted): {}\".format(avg_closeness_centrality_unweighted))\n",
        "print(\"minimum closeness centrality (unweighted): {}\".format(min_closeness_centrality_unweighted))\n",
        "print(\"maximum closeness centrality (unweighted): {}\".format(max_closeness_centrality_unweighted))\n",
        "print()\n",
        "\n",
        "# closeness centrality, weighted\n",
        "closeness_centrality_weighted = nx.closeness_centrality(G, distance='distance')\n",
        "nodes['Closeness Centrality (Weighted)'] = pd.Series(closeness_centrality_weighted)\n",
        "avg_closeness_centrality_weighted = graph_avg(closeness_centrality_weighted)\n",
        "\n",
        "min_closeness_centrality_weighted_index = min(closeness_centrality_weighted, key=closeness_centrality_weighted.get)\n",
        "min_closeness_centrality_weighted = closeness_centrality_weighted[min_closeness_centrality_weighted_index]\n",
        "\n",
        "max_closeness_centrality_weighted_index = max(closeness_centrality_weighted, key=closeness_centrality_weighted.get)\n",
        "max_closeness_centrality_weighted = closeness_centrality_unweighted[max_closeness_centrality_weighted_index]\n",
        "\n",
        "print(\"average closeness centrality (weighted): {}\".format(avg_closeness_centrality_unweighted))\n",
        "print(\"minimum closeness centrality (weighted): {}\".format(min_closeness_centrality_unweighted))\n",
        "print(\"maximum closeness centrality (weighted): {}\".format(max_closeness_centrality_unweighted))\n",
        "print()"
      ]
    },
    {
      "cell_type": "code",
      "execution_count": 39,
      "metadata": {
        "id": "xfSFGUD64QlZ"
      },
      "outputs": [],
      "source": [
        "# betweenness centrality, unweighted\n",
        "unweighted_betweenness_centrality = nx.betweenness_centrality(G)\n",
        "nodes['Betweenness Centrality (Unweighted)'] = pd.Series(unweighted_betweenness_centrality)\n",
        "\n",
        "# betweenness centrality, weighted\n",
        "weighted_betweenness_centrality = nx.betweenness_centrality(G, weight='distance')\n",
        "nodes['Betweenness Centrality (Weighted)'] = pd.Series(weighted_betweenness_centrality)"
      ]
    },
    {
      "cell_type": "code",
      "execution_count": 2,
      "metadata": {
        "colab": {
          "base_uri": "https://localhost:8080/"
        },
        "id": "lcjg2cF09kUe",
        "outputId": "a801efd2-0c9e-443b-fe22-45cfeb67c170"
      },
      "outputs": [
        {
          "name": "stdout",
          "output_type": "stream",
          "text": [
            "[0, 1, 2, 3, 4, 5, 6, 7, 8, 9, 10, 11, 12, 13, 14, 15, 16, 17, 18, 19, 20, 21, 22, 23, 24, 25, 26, 27, 28, 29, 30, 31, 32, 33, 34, 35, 36, 37, 38, 39, 40, 41, 42, 43, 44, 45, 46, 47, 48, 49, 50, 51, 52, 53, 54, 55, 56, 57, 58, 59, 60, 61, 62, 63, 64, 65, 66, 67, 68, 69, 70, 71, 72, 73, 74, 75, 76, 77, 78, 79, 80, 81, 82, 83, 84, 85, 86, 87, 88, 89, 90, 91, 92, 93, 94, 95, 96, 97, 98, 99, 100, 101, 102, 103, 104, 105, 106, 107, 108, 109, 110, 111, 112, 113, 114, 115, 116, 117, 118, 119, 120, 121, 122, 123, 124, 125, 126, 127, 128, 129, 130, 131, 132, 133, 134, 135, 136, 137, 138, 139, 140, 141, 142, 143, 144, 145, 146, 147, 148, 149, 150, 151, 152, 153, 154, 155, 156, 157, 158, 159, 160, 161, 162, 163, 164, 165, 166, 167, 168, 169, 170, 171, 172, 173, 174, 175, 176, 177, 178, 179, 180, 181, 182, 183, 184, 186, 187, 188, 189, 190, 191, 192, 193, 194, 195, 196, 197, 198, 199, 200, 201, 202, 203, 204, 205, 206, 207, 208, 209, 210, 211, 212, 213, 214, 215, 216, 217, 218, 219, 220, 221, 222, 223, 224, 225, 226, 227, 228, 229, 230, 231, 232, 233, 234, 235, 236, 237, 238, 239, 240, 241, 242, 243, 244, 245, 246, 247, 248, 249, 250, 251, 252, 253, 254, 255, 256, 257, 258, 259, 260, 261, 262, 263, 264, 265, 266, 267, 268, 269, 270, 271, 272, 273, 274, 275, 276, 277, 278, 279, 280, 281, 282, 283, 284, 285, 286, 287, 288, 289, 290, 291, 292, 293, 294, 295, 296, 297, 298, 299, 300, 301, 302, 303, 304, 305, 306, 307, 308, 309, 310, 311, 312, 313, 314, 315, 316, 317, 318, 319, 320, 321, 322, 323, 324, 325, 326, 327, 328, 329, 330, 331, 332, 333, 334, 335, 336, 337, 338, 339, 340, 341, 342, 343, 344, 345, 346, 347, 348, 349, 350, 351, 352, 353, 354, 355, 356, 357, 358, 359, 360, 361, 362, 363, 364, 365, 366, 367, 368, 369, 370, 371, 372, 373, 374, 375, 376, 377, 378, 379, 380, 381, 382, 383, 384, 385, 386, 387, 388, 389, 390, 391, 392, 393, 394, 395, 396, 397, 398, 399, 400, 401, 402, 403, 404, 405, 406, 407, 408, 409, 410, 411, 412, 413, 414, 415, 416, 417, 418, 419, 420, 421, 422, 423, 424, 425, 426, 427, 428, 429, 430, 431, 432, 433, 434, 435, 436, 437, 438, 439, 440, 441, 442, 443, 444, 445, 446, 447, 448, 449, 450, 451, 452, 453, 454, 455, 456, 457, 458, 459, 460, 461, 462, 463, 464, 465, 466, 467, 468, 469, 470, 471, 472, 473, 474, 475, 476, 477, 478, 479, 480, 481, 482, 483, 484, 485, 486, 487, 488, 489, 490, 491, 492, 493, 494, 495, 496, 497, 498, 499, 500, 501, 502, 503, 504, 505, 506, 507, 508, 509, 510, 511, 512, 513, 514, 515, 516, 517, 518, 519, 520, 521, 522, 523, 524, 525, 526, 527, 528, 529, 530, 531, 532, 533, 534, 535, 536, 537, 538, 539, 540, 541, 542, 543, 544, 545, 546, 547, 548, 549, 550, 551, 552, 553, 554, 555, 556, 557, 558, 559, 560, 561, 562, 563, 564, 565, 566, 567, 568, 569, 570, 571, 572, 573, 574, 575, 576, 577, 578, 579, 580, 581, 582, 583, 584, 585, 586, 587, 588, 589, 590, 591, 592, 593, 594, 595, 596, 597, 598, 599, 600, 601, 602, 603, 604, 605, 606, 607, 608, 609, 610, 611, 612, 613, 614, 615, 616, 617, 618, 619, 620, 621, 622, 623, 624, 625, 626, 627, 628, 629, 630, 631, 632, 633, 634, 635, 636, 637, 638, 639, 640, 641, 642, 643, 644, 645, 646, 647, 648, 649, 650, 651, 652, 653, 654, 655, 656, 657, 658, 659, 660, 661, 662, 663, 664, 665, 666, 667, 668, 669, 670, 671, 672, 673]\n"
          ]
        }
      ],
      "source": [
        "# clean data for shortest paths calculations\n",
        "G.remove_node(185) # remove r/UCalgary\n",
        "print(G.nodes)"
      ]
    },
    {
      "cell_type": "code",
      "execution_count": 3,
      "metadata": {
        "id": "0kToKdzI7I1S"
      },
      "outputs": [],
      "source": [
        "# shortest path length, unweighted\n",
        "shortest_paths = nx.all_pairs_shortest_path_length(G)\n",
        "shortest_paths = dict(shortest_paths)\n",
        "#print(shortest_paths.values())\n",
        "shortest_paths_list = []\n",
        "for node, info in shortest_paths.items():\n",
        "  for node, dist in info.items():\n",
        "    shortest_paths_list.append(dist)\n"
      ]
    },
    {
      "cell_type": "code",
      "execution_count": 4,
      "metadata": {
        "colab": {
          "base_uri": "https://localhost:8080/"
        },
        "id": "LvUS8oQxAFDb",
        "outputId": "fc625386-60c4-4491-ef81-ab0ff23a4979"
      },
      "outputs": [
        {
          "name": "stdout",
          "output_type": "stream",
          "text": [
            "standard deviation of shortest path lengths is 0.678852893167787\n",
            "average shortest path length is 2.384414268864883\n"
          ]
        }
      ],
      "source": [
        "print(\"standard deviation of shortest path lengths is {}\".format(statistics.stdev(shortest_paths_list)))\n",
        "print(\"average shortest path length is {}\".format(statistics.mean(shortest_paths_list)))"
      ]
    },
    {
      "cell_type": "code",
      "execution_count": 40,
      "metadata": {
        "id": "7nSJolJr5f6s"
      },
      "outputs": [],
      "source": [
        "nodes.to_csv(\"centrality.csv\", sep=',')"
      ]
    },
    {
      "cell_type": "code",
      "execution_count": null,
      "metadata": {
        "colab": {
          "base_uri": "https://localhost:8080/"
        },
        "id": "ENCrOiPPPQf_",
        "outputId": "78051413-e235-4940-89ab-1a6df34f707a"
      },
      "outputs": [
        {
          "name": "stdout",
          "output_type": "stream",
          "text": [
            "674\n",
            "0\n",
            "min: 1; max: 673\n"
          ]
        }
      ],
      "source": [
        "N = len(G)\n",
        "L = G.size()\n",
        "degrees = [G.degree(node) for node in G]\n",
        "print(len(degrees))\n",
        "print(len([deg for deg in degrees if deg == 0]))\n",
        "kmin = min(degrees)\n",
        "kmax = max(degrees)\n",
        "print(\"min: {}; max: {}\".format(kmin, kmax))"
      ]
    },
    {
      "cell_type": "code",
      "execution_count": null,
      "metadata": {
        "colab": {
          "base_uri": "https://localhost:8080/",
          "height": 474
        },
        "id": "BNar5Y5bOfvE",
        "outputId": "c067ec11-0452-41df-8359-5576c4e66e35"
      },
      "outputs": [
        {
          "name": "stdout",
          "output_type": "stream",
          "text": [
            "[1.00000000e+00 1.59028322e+00 2.52900073e+00 4.02182742e+00\n",
            " 6.39584468e+00 1.01712045e+01 1.61750958e+01 2.57229835e+01\n",
            " 4.09068291e+01 6.50534440e+01 1.03453401e+02 1.64520207e+02\n",
            " 2.61633725e+02 4.16071723e+02 6.61671881e+02 1.05224569e+03\n",
            " 1.67336867e+03 2.66113012e+03 4.23195058e+03 6.73000000e+03]\n",
            "[7.54051345e-03 1.58053889e-02 3.27977952e-02 2.74984940e-02\n",
            " 1.21826972e-02 2.22407684e-02 1.55393483e-02 1.41685800e-02\n",
            " 6.57457411e-03 3.09100251e-03 6.80288180e-04 1.52777858e-05\n",
            " 9.60695905e-06 0.00000000e+00 3.79871739e-06 0.00000000e+00\n",
            " 0.00000000e+00 0.00000000e+00 0.00000000e+00]\n"
          ]
        },
        {
          "data": {
            "image/png": "[encoded data removed]",
            "text/plain": [
              "<Figure size 432x288 with 1 Axes>"
            ]
          },
          "metadata": {
            "needs_background": "light"
          },
          "output_type": "display_data"
        }
      ],
      "source": [
        "# Get 20 logarithmically spaced bins between kmin and kmax\n",
        "bin_edges = np.logspace(np.log10(kmin), np.log10(kmax)+1, num=20)\n",
        "\n",
        "# histogram the data into these bins\n",
        "density, _ = np.histogram(degrees, bins=bin_edges, density=True)\n",
        "\n",
        "fig = plt.figure(figsize=(6,4))\n",
        "\n",
        "# \"x\" should be midpoint (IN LOG SPACE) of each bin\n",
        "log_be = np.log10(bin_edges)\n",
        "x = 10**((log_be[1:] + log_be[:-1])/2)\n",
        "\n",
        "plt.loglog(x, density, marker='o', linestyle='none')\n",
        "plt.xlabel(r\"degree $k$\", fontsize=16)\n",
        "plt.ylabel(r\"$P(k)$\", fontsize=16)\n",
        "\n",
        "# remove right and top boundaries because they're ugly\n",
        "ax = plt.gca()\n",
        "ax.spines['right'].set_visible(False)\n",
        "ax.spines['top'].set_visible(False)\n",
        "ax.yaxis.set_ticks_position('left')\n",
        "ax.xaxis.set_ticks_position('bottom')\n",
        "\n",
        "# Show the plot\n",
        "plt.show()"
      ]
    }
  ],
  "metadata": {
    "colab": {
      "collapsed_sections": [],
      "name": "Reddit.ipynb",
      "provenance": []
    },
    "kernelspec": {
      "display_name": "Python 3",
      "name": "python3"
    },
    "language_info": {
      "name": "python"
    }
  },
  "nbformat": 4,
  "nbformat_minor": 0
}
