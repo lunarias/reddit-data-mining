{
  "nbformat": 4,
  "nbformat_minor": 0,
  "metadata": {
    "colab": {
      "name": "Reddit.ipynb",
      "provenance": [],
      "collapsed_sections": []
    },
    "kernelspec": {
      "name": "python3",
      "display_name": "Python 3"
    },
    "language_info": {
      "name": "python"
    }
  },
  "cells": [
    {
      "cell_type": "code",
      "metadata": {
        "id": "ThXNcwbkIYOs"
      },
      "source": [
        "# calculates average value over values in a dictionary\n",
        "def graph_avg(nodes):\n",
        "  total = 0\n",
        "  for key, val in nodes.items():\n",
        "    total += val\n",
        "  avg = total / len(nodes)\n",
        "  return avg\n",
        "\n"
      ],
      "execution_count": 1,
      "outputs": []
    },
    {
      "cell_type": "code",
      "metadata": {
        "colab": {
          "base_uri": "https://localhost:8080/"
        },
        "id": "1bTrrktj668f",
        "outputId": "321579f3-fc53-44f0-fe17-1f482f5df838"
      },
      "source": [
        "import networkx as nx\n",
        "import pandas as pd\n",
        "import numpy as np\n",
        "import matplotlib.pyplot as plt\n",
        "\n",
        "nodes = pd.read_csv(\"subreddit_nodes.csv\", index_col=0)\n",
        "edges = pd.read_csv(\"subreddit_edges.csv\", delimiter=';')\n",
        "print(nodes)\n",
        "print(edges)\n",
        "\n",
        "G = nx.Graph()\n",
        "for index, row in nodes.iterrows():\n",
        "  G.add_node(index, name=row['Label'], category=row['Category'])\n",
        "\n",
        "for index, row in edges.iterrows():\n",
        "  G.add_edge(row['Source'], row['Target'], weight=row['Weight'])\n",
        "\n",
        "print(\"there are {} nodes and {} edges\".format(len(G.nodes), len(G.edges)))\n"
      ],
      "execution_count": 7,
      "outputs": [
        {
          "output_type": "stream",
          "name": "stdout",
          "text": [
            "            Label       Category\n",
            "Id                              \n",
            "0    \"depression\"     Discussion\n",
            "1     \"NFL_Draft\"  Entertainment\n",
            "2     \"RepLadies\"     Discussion\n",
            "3          \"ESFP\"     Discussion\n",
            "4           \"UBC\"    Educational\n",
            "..            ...            ...\n",
            "669       \"tarot\"  Entertainment\n",
            "670  \"activision\"  Entertainment\n",
            "671        \"intj\"      Lifestyle\n",
            "672      \"Baking\"      Lifestyle\n",
            "673    \"shoebots\"     Technology\n",
            "\n",
            "[674 rows x 2 columns]\n",
            "       Source  Target  Weight\n",
            "0           0      65       1\n",
            "1           0     108       1\n",
            "2           0     126       1\n",
            "3           0     131       1\n",
            "4           0     142       1\n",
            "...       ...     ...     ...\n",
            "13135     664     669       1\n",
            "13136     664     671       1\n",
            "13137     666     671       1\n",
            "13138     668     671       1\n",
            "13139     669     671       1\n",
            "\n",
            "[13140 rows x 3 columns]\n",
            "there are 674 nodes and 13140 edges\n"
          ]
        }
      ]
    },
    {
      "cell_type": "code",
      "metadata": {
        "colab": {
          "base_uri": "https://localhost:8080/"
        },
        "id": "w1TA1OIq4abX",
        "outputId": "ecb51175-b9b8-4503-afbf-4ba0755f4a8b"
      },
      "source": [
        "# clustering coefficient, unweighted\n",
        "cluster_coeff_unweighted = nx.clustering(G)\n",
        "nodes['Clustering Coefficient (Unweighted)'] = pd.Series(cluster_coeff_unweighted)\n",
        "avg_cluster_coeff_unweighted = graph_avg(cluster_coeff_unweighted)\n",
        "\n",
        "min_cluster_coeff_unweighted_index = min(cluster_coeff_unweighted, key=cluster_coeff_unweighted.get)\n",
        "min_cluster_coeff_unweighted = cluster_coeff_unweighted[min_cluster_coeff_unweighted_index]\n",
        "\n",
        "max_cluster_coeff_unweighted_index = max(cluster_coeff_unweighted, key=cluster_coeff_unweighted.get)\n",
        "print(max_cluster_coeff_unweighted_index)\n",
        "max_cluster_coeff_unweighted = cluster_coeff_unweighted[max_cluster_coeff_unweighted_index]\n",
        "print(\"average clustering coefficient (unweighted): {}\".format(avg_cluster_coeff_unweighted))\n",
        "print(\"minimum clustering coefficient (unweighted): {}\".format(min_cluster_coeff_unweighted))\n",
        "print(\"maximum clustering coefficient (unweighted): {}\".format(max_cluster_coeff_unweighted))\n",
        "print()\n",
        "\n",
        "# clustering coeff, weighted\n",
        "cluster_coeff_weighted = nx.clustering(G, weight='weight')\n",
        "nodes['Clustering Coefficient (Weighted)'] = pd.Series(cluster_coeff_weighted)\n",
        "avg_cluster_coeff_weighted = graph_avg(cluster_coeff_weighted)\n",
        "\n",
        "min_cluster_coeff_weighted_index = min(cluster_coeff_weighted, key=cluster_coeff_weighted.get)\n",
        "min_cluster_coeff_weighted = cluster_coeff_weighted[min_cluster_coeff_weighted_index]\n",
        "\n",
        "max_cluster_coeff_weighted_index = max(cluster_coeff_weighted, key=cluster_coeff_weighted.get)\n",
        "max_cluster_coeff_weighted = cluster_coeff_weighted[max_cluster_coeff_weighted_index]\n",
        "print(\"average clustering coefficient (weighted): {}\".format(avg_cluster_coeff_weighted))\n",
        "print(\"minimum clustering coefficient (weighted): {}\".format(min_cluster_coeff_weighted))\n",
        "print(\"maximum clustering coefficient (weighted): {}\".format(max_cluster_coeff_weighted))\n",
        "print()\n"
      ],
      "execution_count": 32,
      "outputs": [
        {
          "output_type": "stream",
          "name": "stdout",
          "text": [
            "0\n",
            "average clustering coefficient (unweighted): 0.9348070408814042\n",
            "minimum clustering coefficient (unweighted): 0\n",
            "maximum clustering coefficient (unweighted): 1.0\n",
            "\n",
            "average clustering coefficient (weighted): 0.029192396290506885\n",
            "minimum clustering coefficient (weighted): 0\n",
            "maximum clustering coefficient (weighted): 0.09528270003757304\n",
            "\n"
          ]
        }
      ]
    },
    {
      "cell_type": "code",
      "metadata": {
        "colab": {
          "base_uri": "https://localhost:8080/",
          "height": 200
        },
        "id": "AjBuzfIulK9J",
        "outputId": "4f006d67-a340-4e4e-91f1-1d8764079461"
      },
      "source": [
        "# degree centrality, unweighted\n",
        "degree_centrality = nx.degree_centrality(G)\n",
        "nodes['Degree Centrality (Unweighted)'] = pd.Series(degree_centrality)\n",
        "avg_degree_centrality = graph_avg(degree_centrality)\n",
        "\n",
        "min_degree_centrality_index = min(degree_centrality, key=degree_centrality.get)\n",
        "min_degree_centrality = degree_centrality[min_degree_centrality_index]\n",
        "\n",
        "max_degree_centrality_index = max(degree_centrality, key=degree_centrality.get)\n",
        "max_degree_centrality = degree_centrality[max_degree_centrality_index]\n",
        "print(\"average degree centrality: {}\".format(avg_degree_centrality))\n",
        "print(\"minimum degree centrality: {}\".format(min_degree_centrality))\n",
        "print(\"maximum degree centrality: {}\".format(max_degree_centrality))\n",
        "print()\n",
        "\n",
        "# degree centrality, weighted\n",
        "\"\"\"\n",
        "degree_centrality_weighted = nx.degree_centrality(G, distance='weight')\n",
        "nodes['Degree Centrality (Weighted)'] = pd.Series(degree_centrality_weighted)\n",
        "avg_degree_centrality_weighted = graph_avg(degree_centrality_weighted)\n",
        "\n",
        "min_degree_centrality_weighted_index = min(degree_centrality_weighted, key=degree_centrality_weighted.get)\n",
        "min_degree_centrality_weighted = degree_centrality_weighted[min_degree_centrality_weighted_index]\n",
        "\n",
        "max_degree_centrality_weighted_index = max(degree_centrality_weighted, key=degree_centrality_weighted.get)\n",
        "max_degree_centrality_weighted = degree_centrality_weighted[max_degree_centrality_weighted_index]\n",
        "print(\"average degree centrality: {}\".format(avg_degree_centrality_weighted))\n",
        "print(\"minimum degree centrality: {}\".format(min_degree_centrality_weighted))\n",
        "print(\"maximum degree centrality: {}\".format(max_degree_centrality_weighted))\n",
        "print()\n",
        "\"\"\"\n"
      ],
      "execution_count": 33,
      "outputs": [
        {
          "output_type": "stream",
          "name": "stdout",
          "text": [
            "average degree centrality: 0.057936252485659354\n",
            "minimum degree centrality: 0.0014858841010401188\n",
            "maximum degree centrality: 1.0\n",
            "\n"
          ]
        },
        {
          "output_type": "execute_result",
          "data": {
            "application/vnd.google.colaboratory.intrinsic+json": {
              "type": "string"
            },
            "text/plain": [
              "'\\ndegree_centrality_weighted = nx.degree_centrality(G, distance=\\'weight\\')\\nnodes[\\'Degree Centrality (Weighted)\\'] = pd.Series(degree_centrality_weighted)\\navg_degree_centrality_weighted = graph_avg(degree_centrality_weighted)\\n\\nmin_degree_centrality_weighted_index = min(degree_centrality_weighted, key=degree_centrality_weighted.get)\\nmin_degree_centrality_weighted = degree_centrality_weighted[min_degree_centrality_weighted_index]\\n\\nmax_degree_centrality_weighted_index = max(degree_centrality_weighted, key=degree_centrality_weighted.get)\\nmax_degree_centrality_weighted = degree_centrality_weighted[max_degree_centrality_weighted_index]\\nprint(\"average degree centrality: {}\".format(avg_degree_centrality_weighted))\\nprint(\"minimum degree centrality: {}\".format(min_degree_centrality_weighted))\\nprint(\"maximum degree centrality: {}\".format(max_degree_centrality_weighted))\\nprint()\\n'"
            ]
          },
          "metadata": {},
          "execution_count": 33
        }
      ]
    },
    {
      "cell_type": "code",
      "metadata": {
        "colab": {
          "base_uri": "https://localhost:8080/"
        },
        "id": "vW1QgOHDuaC3",
        "outputId": "e6b653a3-70b3-4a72-f79c-c40dd65d7167"
      },
      "source": [
        "# eigenvector centrality, unweighted\n",
        "eigenv_centrality_unweighted = nx.eigenvector_centrality(G)\n",
        "nodes['Eigenvector Centrality (Unweighted)'] = pd.Series(eigenv_centrality_unweighted)\n",
        "avg_eigenv_centrality_unweighted = graph_avg(eigenv_centrality_unweighted)\n",
        "\n",
        "min_eigenv_centrality_unweighted_index = min(eigenv_centrality_unweighted, key=eigenv_centrality_unweighted.get)\n",
        "min_eigenv_centrality_unweighted = eigenv_centrality_unweighted[min_eigenv_centrality_unweighted_index]\n",
        "\n",
        "max_eigenv_centrality_unweighted_index = max(eigenv_centrality_unweighted, key=eigenv_centrality_unweighted.get)\n",
        "max_eigenv_centrality_unweighted = eigenv_centrality_unweighted[max_eigenv_centrality_unweighted_index]\n",
        "print(\"average eigenvector centrality: {}\".format(avg_eigenv_centrality_unweighted))\n",
        "print(\"minimum eigenvector centrality: {}\".format(min_eigenv_centrality_unweighted))\n",
        "print(\"maximum eigenvector centrality: {}\".format(max_eigenv_centrality_unweighted))\n",
        "print()\n",
        "\n",
        "# eigenvector centrality, unweighted\n",
        "eigenv_centrality_weighted = nx.eigenvector_centrality(G, weight='weight')\n",
        "nodes['Eigenvector Centrality (Weighted)'] = pd.Series(eigenv_centrality_weighted)\n",
        "avg_eigenv_centrality_weighted = graph_avg(eigenv_centrality_weighted)\n",
        "\n",
        "min_eigenv_centrality_weighted_index = min(eigenv_centrality_weighted, key=eigenv_centrality_weighted.get)\n",
        "min_eigenv_centrality_weighted = eigenv_centrality_weighted[min_eigenv_centrality_weighted_index]\n",
        "\n",
        "max_eigenv_centrality_weighted_index = max(eigenv_centrality_weighted, key=eigenv_centrality_weighted.get)\n",
        "max_eigenv_centrality_weighted = eigenv_centrality_weighted[max_eigenv_centrality_weighted_index]\n",
        "print(\"average eigenvector centrality: {}\".format(avg_eigenv_centrality_weighted))\n",
        "print(\"minimum eigenvector centrality: {}\".format(min_eigenv_centrality_weighted))\n",
        "print(\"maximum eigenvector centrality: {}\".format(max_eigenv_centrality_weighted))\n",
        "print()"
      ],
      "execution_count": 34,
      "outputs": [
        {
          "output_type": "stream",
          "name": "stdout",
          "text": [
            "average eigenvector centrality: 0.019738235447154657\n",
            "minimum eigenvector centrality: 0.0015312105998696757\n",
            "maximum eigenvector centrality: 0.14196092000229163\n",
            "\n",
            "average eigenvector centrality: 0.022296261618297727\n",
            "minimum eigenvector centrality: 0.0032751856705756427\n",
            "maximum eigenvector centrality: 0.3425112172876475\n",
            "\n"
          ]
        }
      ]
    },
    {
      "cell_type": "code",
      "metadata": {
        "colab": {
          "base_uri": "https://localhost:8080/"
        },
        "id": "5_SpKXpHu8n0",
        "outputId": "177877c4-1199-4e67-d7dd-c24d674f09e3"
      },
      "source": [
        "# closeness centrality, unweighted\n",
        "g_distance_dict = {(e1, e2): 1 / weight for e1, e2, weight in G.edges(data='weight')}\n",
        "nx.set_edge_attributes(G, g_distance_dict, 'distance')\n",
        "\n",
        "closeness_centrality_unweighted = nx.closeness_centrality(G)\n",
        "nodes['Closeness Centrality (Unweighted)'] = pd.Series(closeness_centrality_unweighted)\n",
        "avg_closeness_centrality_unweighted = graph_avg(closeness_centrality_unweighted)\n",
        "\n",
        "min_closeness_centrality_unweighted_index = min(closeness_centrality_unweighted, key=closeness_centrality_unweighted.get)\n",
        "min_closeness_centrality_unweighted = closeness_centrality_unweighted[min_closeness_centrality_unweighted_index]\n",
        "\n",
        "max_closeness_centrality_unweighted_index = max(closeness_centrality_unweighted, key=closeness_centrality_unweighted.get)\n",
        "max_closeness_centrality_unweighted = closeness_centrality_unweighted[max_closeness_centrality_unweighted_index]\n",
        "\n",
        "print(\"average closeness centrality (unweighted): {}\".format(avg_closeness_centrality_unweighted))\n",
        "print(\"minimum closeness centrality (unweighted): {}\".format(min_closeness_centrality_unweighted))\n",
        "print(\"maximum closeness centrality (unweighted): {}\".format(max_closeness_centrality_unweighted))\n",
        "print()\n",
        "\n",
        "# closeness centrality, weighted\n",
        "closeness_centrality_weighted = nx.closeness_centrality(G, distance='distance')\n",
        "nodes['Closeness Centrality (Weighted)'] = pd.Series(closeness_centrality_weighted)\n",
        "avg_closeness_centrality_weighted = graph_avg(closeness_centrality_weighted)\n",
        "\n",
        "min_closeness_centrality_weighted_index = min(closeness_centrality_weighted, key=closeness_centrality_weighted.get)\n",
        "min_closeness_centrality_weighted = closeness_centrality_weighted[min_closeness_centrality_weighted_index]\n",
        "\n",
        "max_closeness_centrality_weighted_index = max(closeness_centrality_weighted, key=closeness_centrality_weighted.get)\n",
        "max_closeness_centrality_weighted = closeness_centrality_unweighted[max_closeness_centrality_weighted_index]\n",
        "\n",
        "print(\"average closeness centrality (weighted): {}\".format(avg_closeness_centrality_unweighted))\n",
        "print(\"minimum closeness centrality (weighted): {}\".format(min_closeness_centrality_unweighted))\n",
        "print(\"maximum closeness centrality (weighted): {}\".format(max_closeness_centrality_unweighted))\n",
        "print()"
      ],
      "execution_count": 35,
      "outputs": [
        {
          "output_type": "stream",
          "name": "stdout",
          "text": [
            "average closeness centrality (unweighted): 0.5156787817159918\n",
            "minimum closeness centrality (unweighted): 0.5003717472118959\n",
            "maximum closeness centrality (unweighted): 1.0\n",
            "\n",
            "average closeness centrality (weighted): 0.5156787817159918\n",
            "minimum closeness centrality (weighted): 0.5003717472118959\n",
            "maximum closeness centrality (weighted): 1.0\n",
            "\n"
          ]
        }
      ]
    },
    {
      "cell_type": "code",
      "metadata": {
        "id": "7nSJolJr5f6s"
      },
      "source": [
        "nodes.to_csv(\"centrality.csv\", sep=',')"
      ],
      "execution_count": 36,
      "outputs": []
    },
    {
      "cell_type": "code",
      "metadata": {
        "colab": {
          "base_uri": "https://localhost:8080/"
        },
        "id": "ENCrOiPPPQf_",
        "outputId": "78051413-e235-4940-89ab-1a6df34f707a"
      },
      "source": [
        "N = len(G)\n",
        "L = G.size()\n",
        "degrees = [G.degree(node) for node in G]\n",
        "print(len(degrees))\n",
        "print(len([deg for deg in degrees if deg == 0]))\n",
        "kmin = min(degrees)\n",
        "kmax = max(degrees)\n",
        "print(\"min: {}; max: {}\".format(kmin, kmax))"
      ],
      "execution_count": null,
      "outputs": [
        {
          "output_type": "stream",
          "name": "stdout",
          "text": [
            "674\n",
            "0\n",
            "min: 1; max: 673\n"
          ]
        }
      ]
    },
    {
      "cell_type": "code",
      "metadata": {
        "colab": {
          "base_uri": "https://localhost:8080/",
          "height": 474
        },
        "id": "BNar5Y5bOfvE",
        "outputId": "c067ec11-0452-41df-8359-5576c4e66e35"
      },
      "source": [
        "# Get 20 logarithmically spaced bins between kmin and kmax\n",
        "bin_edges = np.logspace(np.log10(kmin), np.log10(kmax)+1, num=20)\n",
        "\n",
        "# histogram the data into these bins\n",
        "density, _ = np.histogram(degrees, bins=bin_edges, density=True)\n",
        "\n",
        "fig = plt.figure(figsize=(6,4))\n",
        "\n",
        "# \"x\" should be midpoint (IN LOG SPACE) of each bin\n",
        "log_be = np.log10(bin_edges)\n",
        "x = 10**((log_be[1:] + log_be[:-1])/2)\n",
        "\n",
        "plt.loglog(x, density, marker='o', linestyle='none')\n",
        "plt.xlabel(r\"degree $k$\", fontsize=16)\n",
        "plt.ylabel(r\"$P(k)$\", fontsize=16)\n",
        "\n",
        "# remove right and top boundaries because they're ugly\n",
        "ax = plt.gca()\n",
        "ax.spines['right'].set_visible(False)\n",
        "ax.spines['top'].set_visible(False)\n",
        "ax.yaxis.set_ticks_position('left')\n",
        "ax.xaxis.set_ticks_position('bottom')\n",
        "\n",
        "# Show the plot\n",
        "plt.show()"
      ],
      "execution_count": null,
      "outputs": [
        {
          "output_type": "stream",
          "name": "stdout",
          "text": [
            "[1.00000000e+00 1.59028322e+00 2.52900073e+00 4.02182742e+00\n",
            " 6.39584468e+00 1.01712045e+01 1.61750958e+01 2.57229835e+01\n",
            " 4.09068291e+01 6.50534440e+01 1.03453401e+02 1.64520207e+02\n",
            " 2.61633725e+02 4.16071723e+02 6.61671881e+02 1.05224569e+03\n",
            " 1.67336867e+03 2.66113012e+03 4.23195058e+03 6.73000000e+03]\n",
            "[7.54051345e-03 1.58053889e-02 3.27977952e-02 2.74984940e-02\n",
            " 1.21826972e-02 2.22407684e-02 1.55393483e-02 1.41685800e-02\n",
            " 6.57457411e-03 3.09100251e-03 6.80288180e-04 1.52777858e-05\n",
            " 9.60695905e-06 0.00000000e+00 3.79871739e-06 0.00000000e+00\n",
            " 0.00000000e+00 0.00000000e+00 0.00000000e+00]\n"
          ]
        },
        {
          "output_type": "display_data",
          "data": {
            "image/png": "[encoded data removed]",
            "text/plain": [
              "<Figure size 432x288 with 1 Axes>"
            ]
          },
          "metadata": {
            "needs_background": "light"
          }
        }
      ]
    }
  ]
}